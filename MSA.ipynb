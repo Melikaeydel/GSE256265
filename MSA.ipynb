{
  "nbformat": 4,
  "nbformat_minor": 0,
  "metadata": {
    "colab": {
      "provenance": [],
      "authorship_tag": "ABX9TyOLZQCbWehaTvRm+PFOL4Z1",
      "include_colab_link": true
    },
    "kernelspec": {
      "name": "python3",
      "display_name": "Python 3"
    },
    "language_info": {
      "name": "python"
    }
  },
  "cells": [
    {
      "cell_type": "markdown",
      "metadata": {
        "id": "view-in-github",
        "colab_type": "text"
      },
      "source": [
        "<a href=\"https://colab.research.google.com/github/Melikaeydel/GSE256265/blob/main/MSA.ipynb\" target=\"_parent\"><img src=\"https://colab.research.google.com/assets/colab-badge.svg\" alt=\"Open In Colab\"/></a>"
      ]
    },
    {
      "cell_type": "code",
      "source": [
        "!apt-get update\n",
        "!apt-get install -y clustalo\n"
      ],
      "metadata": {
        "colab": {
          "base_uri": "https://localhost:8080/"
        },
        "id": "k_XpxRgkQGMb",
        "outputId": "6a1605b7-ab62-4439-de17-2b017a9ecd86"
      },
      "execution_count": 13,
      "outputs": [
        {
          "output_type": "stream",
          "name": "stdout",
          "text": [
            "\r0% [Working]\r            \rHit:1 http://archive.ubuntu.com/ubuntu jammy InRelease\n",
            "\r0% [Connecting to security.ubuntu.com (185.125.190.82)] [Connected to cloud.r-p\r                                                                               \rHit:2 https://developer.download.nvidia.com/compute/cuda/repos/ubuntu2204/x86_64  InRelease\n",
            "\r0% [Waiting for headers] [Waiting for headers] [Waiting for headers] [Waiting f\r                                                                               \rHit:3 http://archive.ubuntu.com/ubuntu jammy-updates InRelease\n",
            "\r0% [Waiting for headers] [Waiting for headers] [Waiting for headers] [Connectin\r                                                                               \rHit:4 https://cloud.r-project.org/bin/linux/ubuntu jammy-cran40/ InRelease\n",
            "Hit:5 http://archive.ubuntu.com/ubuntu jammy-backports InRelease\n",
            "Hit:6 https://r2u.stat.illinois.edu/ubuntu jammy InRelease\n",
            "Hit:7 http://security.ubuntu.com/ubuntu jammy-security InRelease\n",
            "Hit:8 https://ppa.launchpadcontent.net/deadsnakes/ppa/ubuntu jammy InRelease\n",
            "Hit:9 https://ppa.launchpadcontent.net/graphics-drivers/ppa/ubuntu jammy InRelease\n",
            "Hit:10 https://ppa.launchpadcontent.net/ubuntugis/ppa/ubuntu jammy InRelease\n",
            "Reading package lists... Done\n",
            "W: Skipping acquire of configured file 'main/source/Sources' as repository 'https://r2u.stat.illinois.edu/ubuntu jammy InRelease' does not seem to provide it (sources.list entry misspelt?)\n",
            "Reading package lists... Done\n",
            "Building dependency tree... Done\n",
            "Reading state information... Done\n",
            "clustalo is already the newest version (1.2.4-7).\n",
            "0 upgraded, 0 newly installed, 0 to remove and 89 not upgraded.\n"
          ]
        }
      ]
    },
    {
      "cell_type": "code",
      "source": [
        "with open(\"MMP1_sequences.fasta\", \"w\") as f:\n",
        "    f.write(\"\"\">human_MMP1\n",
        "MHSFPPLLLLVLLFGKTSRRAKLLGAVSPVTRGPPKSPALPQPGIVFVHSLGQGPLVTVTLCGNPKVLRGLQPGSRGVLFFQKTHGKRYTTFYLSPSQSLWHHTG\n",
        ">mouse_MMP1\n",
        "MKSSPLLLLILFGKTSRRAKLLGAVSPVTRGPPKSPALPQPGIVFVHSLGQGPLVTVTLCGNPKVLRGLQPGSRGVLFFQKTHGKRYTTFYLSPSQSLWHHTG\n",
        ">rat_MMP1\n",
        "MKSSPLLLLILFGKTSRRAKLLGAVSPVTRGPPKSPALPQPGIVFVHSLGQGPLVTVTLCGNPKVLRGLQPGSRGVLFFQKTHGKRYTTFYLSPSQSLWHHTG\n",
        ">chimpanzee_MMP1\n",
        "MHSFPPLLLLVLLFGKTSRRAKLLGAVSPVTRGPPKSPALPQPGIVFVHSLGQGPLVTVTLCGNPKVLRGLQPGSRGVLFFQKTHGKRYTTFYLSPSQSLWHHTG\n",
        "\"\"\")\n"
      ],
      "metadata": {
        "id": "OjO2mshJQOcN"
      },
      "execution_count": 14,
      "outputs": []
    },
    {
      "cell_type": "code",
      "source": [
        "!clustalo -i MMP1_sequences.fasta -o MMP1_aligned.fasta --force\n"
      ],
      "metadata": {
        "id": "vqI653WWQTYR"
      },
      "execution_count": 15,
      "outputs": []
    },
    {
      "cell_type": "code",
      "source": [
        "!pip install biopython\n"
      ],
      "metadata": {
        "colab": {
          "base_uri": "https://localhost:8080/"
        },
        "id": "i77-22RoQsV5",
        "outputId": "5e37ece6-e874-48e8-96d0-eff64d0baa89"
      },
      "execution_count": 17,
      "outputs": [
        {
          "output_type": "stream",
          "name": "stdout",
          "text": [
            "Requirement already satisfied: biopython in /usr/local/lib/python3.11/dist-packages (1.85)\n",
            "Requirement already satisfied: numpy in /usr/local/lib/python3.11/dist-packages (from biopython) (2.0.2)\n"
          ]
        }
      ]
    },
    {
      "cell_type": "code",
      "source": [
        "from Bio import AlignIO\n",
        "\n",
        "alignment = AlignIO.read(\"MMP1_aligned.fasta\", \"fasta\")\n",
        "\n",
        "print(\"تعداد توالی‌ها:\", len(alignment))\n",
        "print(\"طول alignment:\", alignment.get_alignment_length())\n",
        "\n",
        "# نمایش چند تا توالی اولیه:\n",
        "for record in alignment[:3]:\n",
        "    print(f\">{record.id}\")\n",
        "    print(record.seq)\n",
        "\n",
        "# تحلیل موقعیت‌های محافظت‌شده (همه‌ی توالی‌ها یکسان در آن ستون)\n",
        "print(\"\\nموقعیت‌های محافظت‌شده:\")\n",
        "for i in range(alignment.get_alignment_length()):\n",
        "    column = alignment[:, i]\n",
        "    if len(set(column)) == 1:\n",
        "        print(f\"موقعیت {i+1}: {column[0]}\")\n"
      ],
      "metadata": {
        "colab": {
          "base_uri": "https://localhost:8080/"
        },
        "id": "yYcZ55eFQwOc",
        "outputId": "eb9621af-7e89-4956-f629-4e8ffb5eaa5d"
      },
      "execution_count": 18,
      "outputs": [
        {
          "output_type": "stream",
          "name": "stdout",
          "text": [
            "تعداد توالی‌ها: 4\n",
            "طول alignment: 105\n",
            ">human_MMP1\n",
            "MHSFPPLLLLVLLFGKTSRRAKLLGAVSPVTRGPPKSPALPQPGIVFVHSLGQGPLVTVTLCGNPKVLRGLQPGSRGVLFFQKTHGKRYTTFYLSPSQSLWHHTG\n",
            ">mouse_MMP1\n",
            "MKS--SPLLLLILFGKTSRRAKLLGAVSPVTRGPPKSPALPQPGIVFVHSLGQGPLVTVTLCGNPKVLRGLQPGSRGVLFFQKTHGKRYTTFYLSPSQSLWHHTG\n",
            ">rat_MMP1\n",
            "MKS--SPLLLLILFGKTSRRAKLLGAVSPVTRGPPKSPALPQPGIVFVHSLGQGPLVTVTLCGNPKVLRGLQPGSRGVLFFQKTHGKRYTTFYLSPSQSLWHHTG\n",
            "\n",
            "موقعیت‌های محافظت‌شده:\n",
            "موقعیت 1: M\n",
            "موقعیت 3: S\n",
            "موقعیت 8: L\n",
            "موقعیت 9: L\n",
            "موقعیت 10: L\n",
            "موقعیت 13: L\n",
            "موقعیت 14: F\n",
            "موقعیت 15: G\n",
            "موقعیت 16: K\n",
            "موقعیت 17: T\n",
            "موقعیت 18: S\n",
            "موقعیت 19: R\n",
            "موقعیت 20: R\n",
            "موقعیت 21: A\n",
            "موقعیت 22: K\n",
            "موقعیت 23: L\n",
            "موقعیت 24: L\n",
            "موقعیت 25: G\n",
            "موقعیت 26: A\n",
            "موقعیت 27: V\n",
            "موقعیت 28: S\n",
            "موقعیت 29: P\n",
            "موقعیت 30: V\n",
            "موقعیت 31: T\n",
            "موقعیت 32: R\n",
            "موقعیت 33: G\n",
            "موقعیت 34: P\n",
            "موقعیت 35: P\n",
            "موقعیت 36: K\n",
            "موقعیت 37: S\n",
            "موقعیت 38: P\n",
            "موقعیت 39: A\n",
            "موقعیت 40: L\n",
            "موقعیت 41: P\n",
            "موقعیت 42: Q\n",
            "موقعیت 43: P\n",
            "موقعیت 44: G\n",
            "موقعیت 45: I\n",
            "موقعیت 46: V\n",
            "موقعیت 47: F\n",
            "موقعیت 48: V\n",
            "موقعیت 49: H\n",
            "موقعیت 50: S\n",
            "موقعیت 51: L\n",
            "موقعیت 52: G\n",
            "موقعیت 53: Q\n",
            "موقعیت 54: G\n",
            "موقعیت 55: P\n",
            "موقعیت 56: L\n",
            "موقعیت 57: V\n",
            "موقعیت 58: T\n",
            "موقعیت 59: V\n",
            "موقعیت 60: T\n",
            "موقعیت 61: L\n",
            "موقعیت 62: C\n",
            "موقعیت 63: G\n",
            "موقعیت 64: N\n",
            "موقعیت 65: P\n",
            "موقعیت 66: K\n",
            "موقعیت 67: V\n",
            "موقعیت 68: L\n",
            "موقعیت 69: R\n",
            "موقعیت 70: G\n",
            "موقعیت 71: L\n",
            "موقعیت 72: Q\n",
            "موقعیت 73: P\n",
            "موقعیت 74: G\n",
            "موقعیت 75: S\n",
            "موقعیت 76: R\n",
            "موقعیت 77: G\n",
            "موقعیت 78: V\n",
            "موقعیت 79: L\n",
            "موقعیت 80: F\n",
            "موقعیت 81: F\n",
            "موقعیت 82: Q\n",
            "موقعیت 83: K\n",
            "موقعیت 84: T\n",
            "موقعیت 85: H\n",
            "موقعیت 86: G\n",
            "موقعیت 87: K\n",
            "موقعیت 88: R\n",
            "موقعیت 89: Y\n",
            "موقعیت 90: T\n",
            "موقعیت 91: T\n",
            "موقعیت 92: F\n",
            "موقعیت 93: Y\n",
            "موقعیت 94: L\n",
            "موقعیت 95: S\n",
            "موقعیت 96: P\n",
            "موقعیت 97: S\n",
            "موقعیت 98: Q\n",
            "موقعیت 99: S\n",
            "موقعیت 100: L\n",
            "موقعیت 101: W\n",
            "موقعیت 102: H\n",
            "موقعیت 103: H\n",
            "موقعیت 104: T\n",
            "موقعیت 105: G\n"
          ]
        }
      ]
    },
    {
      "cell_type": "code",
      "source": [
        "!pip install logomaker biopython matplotlib\n"
      ],
      "metadata": {
        "colab": {
          "base_uri": "https://localhost:8080/"
        },
        "id": "wFhNWX89UIeS",
        "outputId": "50b9a028-0418-4b96-e082-ff1996b93cbf"
      },
      "execution_count": 19,
      "outputs": [
        {
          "output_type": "stream",
          "name": "stdout",
          "text": [
            "Collecting logomaker\n",
            "  Downloading logomaker-0.8.7-py3-none-any.whl.metadata (2.6 kB)\n",
            "Requirement already satisfied: biopython in /usr/local/lib/python3.11/dist-packages (1.85)\n",
            "Requirement already satisfied: matplotlib in /usr/local/lib/python3.11/dist-packages (3.10.0)\n",
            "Requirement already satisfied: numpy in /usr/local/lib/python3.11/dist-packages (from logomaker) (2.0.2)\n",
            "Requirement already satisfied: pandas in /usr/local/lib/python3.11/dist-packages (from logomaker) (2.2.2)\n",
            "Requirement already satisfied: contourpy>=1.0.1 in /usr/local/lib/python3.11/dist-packages (from matplotlib) (1.3.2)\n",
            "Requirement already satisfied: cycler>=0.10 in /usr/local/lib/python3.11/dist-packages (from matplotlib) (0.12.1)\n",
            "Requirement already satisfied: fonttools>=4.22.0 in /usr/local/lib/python3.11/dist-packages (from matplotlib) (4.58.0)\n",
            "Requirement already satisfied: kiwisolver>=1.3.1 in /usr/local/lib/python3.11/dist-packages (from matplotlib) (1.4.8)\n",
            "Requirement already satisfied: packaging>=20.0 in /usr/local/lib/python3.11/dist-packages (from matplotlib) (24.2)\n",
            "Requirement already satisfied: pillow>=8 in /usr/local/lib/python3.11/dist-packages (from matplotlib) (11.2.1)\n",
            "Requirement already satisfied: pyparsing>=2.3.1 in /usr/local/lib/python3.11/dist-packages (from matplotlib) (3.2.3)\n",
            "Requirement already satisfied: python-dateutil>=2.7 in /usr/local/lib/python3.11/dist-packages (from matplotlib) (2.9.0.post0)\n",
            "Requirement already satisfied: six>=1.5 in /usr/local/lib/python3.11/dist-packages (from python-dateutil>=2.7->matplotlib) (1.17.0)\n",
            "Requirement already satisfied: pytz>=2020.1 in /usr/local/lib/python3.11/dist-packages (from pandas->logomaker) (2025.2)\n",
            "Requirement already satisfied: tzdata>=2022.7 in /usr/local/lib/python3.11/dist-packages (from pandas->logomaker) (2025.2)\n",
            "Downloading logomaker-0.8.7-py3-none-any.whl (13.2 MB)\n",
            "\u001b[2K   \u001b[90m━━━━━━━━━━━━━━━━━━━━━━━━━━━━━━━━━━━━━━━━\u001b[0m \u001b[32m13.2/13.2 MB\u001b[0m \u001b[31m59.0 MB/s\u001b[0m eta \u001b[36m0:00:00\u001b[0m\n",
            "\u001b[?25hInstalling collected packages: logomaker\n",
            "Successfully installed logomaker-0.8.7\n"
          ]
        }
      ]
    },
    {
      "cell_type": "code",
      "source": [
        "import logomaker\n",
        "from Bio import AlignIO\n",
        "import matplotlib.pyplot as plt\n",
        "\n",
        "# خواندن فایل الاینمنت (فرمت fasta)\n",
        "alignment = AlignIO.read(\"MMP1_aligned.fasta\", \"fasta\")\n",
        "\n",
        "# ساخت یک ماتریس فرکانس هر آمینواسید در هر ستون\n",
        "counts_matrix = logomaker.alignment_to_matrix([str(rec.seq) for rec in alignment], to_type='counts')\n",
        "\n",
        "# رسم لوگو\n",
        "plt.figure(figsize=(15,5))\n",
        "logo = logomaker.Logo(counts_matrix)\n",
        "plt.title(\"Sequence Logo for MMP1 Alignment\")\n",
        "plt.xlabel(\"Position\")\n",
        "plt.ylabel(\"Count of Amino Acids\")\n",
        "plt.show()\n"
      ],
      "metadata": {
        "colab": {
          "base_uri": "https://localhost:8080/",
          "height": 308
        },
        "id": "Uzlp_5hRUYYO",
        "outputId": "99e7536d-4d57-485e-c3f7-af737513efae"
      },
      "execution_count": 20,
      "outputs": [
        {
          "output_type": "display_data",
          "data": {
            "text/plain": [
              "<Figure size 1500x500 with 0 Axes>"
            ]
          },
          "metadata": {}
        },
        {
          "output_type": "display_data",
          "data": {
            "text/plain": [
              "<Figure size 1000x250 with 1 Axes>"
            ],
            "image/png": "[encoded data removed]"
          },
          "metadata": {}
        }
      ]
    },
    {
      "cell_type": "code",
      "source": [
        "for i, row in counts_matrix.iterrows():\n",
        "    if (row > 0).sum() == 1:  # فقط یک آمینواسید در این ستون هست\n",
        "        aa = row[row > 0].index[0]\n",
        "        print(f\"موقعیت {i+1} کاملاً محافظت شده با آمینواسید: {aa}\")\n"
      ],
      "metadata": {
        "colab": {
          "base_uri": "https://localhost:8080/"
        },
        "id": "DQo5__giVM4E",
        "outputId": "21ff660d-98a7-4271-b55b-32119b27a5f3"
      },
      "execution_count": 23,
      "outputs": [
        {
          "output_type": "stream",
          "name": "stdout",
          "text": [
            "موقعیت 1 کاملاً محافظت شده با آمینواسید: M\n",
            "موقعیت 2 کاملاً محافظت شده با آمینواسید: H\n",
            "موقعیت 8 کاملاً محافظت شده با آمینواسید: L\n",
            "موقعیت 9 کاملاً محافظت شده با آمینواسید: L\n",
            "موقعیت 10 کاملاً محافظت شده با آمینواسید: L\n",
            "موقعیت 13 کاملاً محافظت شده با آمینواسید: L\n",
            "موقعیت 14 کاملاً محافظت شده با آمینواسید: F\n",
            "موقعیت 15 کاملاً محافظت شده با آمینواسید: G\n",
            "موقعیت 16 کاملاً محافظت شده با آمینواسید: K\n",
            "موقعیت 17 کاملاً محافظت شده با آمینواسید: T\n",
            "موقعیت 18 کاملاً محافظت شده با آمینواسید: S\n",
            "موقعیت 19 کاملاً محافظت شده با آمینواسید: R\n",
            "موقعیت 20 کاملاً محافظت شده با آمینواسید: R\n",
            "موقعیت 21 کاملاً محافظت شده با آمینواسید: A\n",
            "موقعیت 22 کاملاً محافظت شده با آمینواسید: K\n",
            "موقعیت 23 کاملاً محافظت شده با آمینواسید: L\n",
            "موقعیت 24 کاملاً محافظت شده با آمینواسید: L\n",
            "موقعیت 25 کاملاً محافظت شده با آمینواسید: G\n",
            "موقعیت 26 کاملاً محافظت شده با آمینواسید: A\n",
            "موقعیت 27 کاملاً محافظت شده با آمینواسید: V\n",
            "موقعیت 28 کاملاً محافظت شده با آمینواسید: S\n",
            "موقعیت 29 کاملاً محافظت شده با آمینواسید: P\n",
            "موقعیت 30 کاملاً محافظت شده با آمینواسید: V\n",
            "موقعیت 31 کاملاً محافظت شده با آمینواسید: T\n",
            "موقعیت 32 کاملاً محافظت شده با آمینواسید: R\n",
            "موقعیت 33 کاملاً محافظت شده با آمینواسید: G\n",
            "موقعیت 34 کاملاً محافظت شده با آمینواسید: P\n",
            "موقعیت 35 کاملاً محافظت شده با آمینواسید: P\n",
            "موقعیت 36 کاملاً محافظت شده با آمینواسید: K\n",
            "موقعیت 37 کاملاً محافظت شده با آمینواسید: S\n",
            "موقعیت 38 کاملاً محافظت شده با آمینواسید: P\n",
            "موقعیت 39 کاملاً محافظت شده با آمینواسید: A\n",
            "موقعیت 40 کاملاً محافظت شده با آمینواسید: L\n",
            "موقعیت 41 کاملاً محافظت شده با آمینواسید: P\n",
            "موقعیت 42 کاملاً محافظت شده با آمینواسید: Q\n",
            "موقعیت 43 کاملاً محافظت شده با آمینواسید: P\n",
            "موقعیت 44 کاملاً محافظت شده با آمینواسید: G\n",
            "موقعیت 45 کاملاً محافظت شده با آمینواسید: I\n",
            "موقعیت 46 کاملاً محافظت شده با آمینواسید: V\n",
            "موقعیت 47 کاملاً محافظت شده با آمینواسید: F\n",
            "موقعیت 48 کاملاً محافظت شده با آمینواسید: V\n",
            "موقعیت 49 کاملاً محافظت شده با آمینواسید: H\n",
            "موقعیت 50 کاملاً محافظت شده با آمینواسید: S\n",
            "موقعیت 51 کاملاً محافظت شده با آمینواسید: L\n",
            "موقعیت 52 کاملاً محافظت شده با آمینواسید: G\n",
            "موقعیت 53 کاملاً محافظت شده با آمینواسید: Q\n",
            "موقعیت 54 کاملاً محافظت شده با آمینواسید: G\n",
            "موقعیت 55 کاملاً محافظت شده با آمینواسید: P\n",
            "موقعیت 56 کاملاً محافظت شده با آمینواسید: L\n",
            "موقعیت 57 کاملاً محافظت شده با آمینواسید: V\n",
            "موقعیت 58 کاملاً محافظت شده با آمینواسید: T\n",
            "موقعیت 59 کاملاً محافظت شده با آمینواسید: V\n",
            "موقعیت 60 کاملاً محافظت شده با آمینواسید: T\n",
            "موقعیت 61 کاملاً محافظت شده با آمینواسید: L\n",
            "موقعیت 62 کاملاً محافظت شده با آمینواسید: C\n",
            "موقعیت 63 کاملاً محافظت شده با آمینواسید: G\n",
            "موقعیت 64 کاملاً محافظت شده با آمینواسید: N\n",
            "موقعیت 65 کاملاً محافظت شده با آمینواسید: P\n",
            "موقعیت 66 کاملاً محافظت شده با آمینواسید: K\n",
            "موقعیت 67 کاملاً محافظت شده با آمینواسید: V\n",
            "موقعیت 68 کاملاً محافظت شده با آمینواسید: L\n",
            "موقعیت 69 کاملاً محافظت شده با آمینواسید: R\n",
            "موقعیت 70 کاملاً محافظت شده با آمینواسید: G\n",
            "موقعیت 71 کاملاً محافظت شده با آمینواسید: L\n",
            "موقعیت 72 کاملاً محافظت شده با آمینواسید: Q\n",
            "موقعیت 73 کاملاً محافظت شده با آمینواسید: P\n",
            "موقعیت 74 کاملاً محافظت شده با آمینواسید: G\n",
            "موقعیت 75 کاملاً محافظت شده با آمینواسید: S\n",
            "موقعیت 76 کاملاً محافظت شده با آمینواسید: R\n",
            "موقعیت 77 کاملاً محافظت شده با آمینواسید: G\n",
            "موقعیت 78 کاملاً محافظت شده با آمینواسید: V\n",
            "موقعیت 79 کاملاً محافظت شده با آمینواسید: L\n",
            "موقعیت 80 کاملاً محافظت شده با آمینواسید: F\n",
            "موقعیت 81 کاملاً محافظت شده با آمینواسید: F\n",
            "موقعیت 82 کاملاً محافظت شده با آمینواسید: Q\n",
            "موقعیت 83 کاملاً محافظت شده با آمینواسید: K\n",
            "موقعیت 84 کاملاً محافظت شده با آمینواسید: T\n",
            "موقعیت 85 کاملاً محافظت شده با آمینواسید: H\n",
            "موقعیت 86 کاملاً محافظت شده با آمینواسید: G\n",
            "موقعیت 87 کاملاً محافظت شده با آمینواسید: K\n",
            "موقعیت 88 کاملاً محافظت شده با آمینواسید: R\n",
            "موقعیت 89 کاملاً محافظت شده با آمینواسید: Y\n",
            "موقعیت 90 کاملاً محافظت شده با آمینواسید: T\n",
            "موقعیت 91 کاملاً محافظت شده با آمینواسید: T\n",
            "موقعیت 92 کاملاً محافظت شده با آمینواسید: F\n",
            "موقعیت 93 کاملاً محافظت شده با آمینواسید: Y\n",
            "موقعیت 94 کاملاً محافظت شده با آمینواسید: L\n",
            "موقعیت 95 کاملاً محافظت شده با آمینواسید: S\n",
            "موقعیت 96 کاملاً محافظت شده با آمینواسید: P\n",
            "موقعیت 97 کاملاً محافظت شده با آمینواسید: S\n",
            "موقعیت 98 کاملاً محافظت شده با آمینواسید: Q\n",
            "موقعیت 99 کاملاً محافظت شده با آمینواسید: S\n",
            "موقعیت 100 کاملاً محافظت شده با آمینواسید: L\n",
            "موقعیت 101 کاملاً محافظت شده با آمینواسید: W\n",
            "موقعیت 102 کاملاً محافظت شده با آمینواسید: H\n",
            "موقعیت 103 کاملاً محافظت شده با آمینواسید: H\n",
            "موقعیت 104 کاملاً محافظت شده با آمینواسید: T\n",
            "موقعیت 105 کاملاً محافظت شده با آمینواسید: G\n"
          ]
        }
      ]
    }
  ]
}